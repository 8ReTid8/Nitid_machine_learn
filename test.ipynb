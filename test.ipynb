{
 "cells": [
  {
   "cell_type": "code",
   "execution_count": 1,
   "metadata": {},
   "outputs": [
    {
     "data": {
      "text/html": [
       "<div>\n",
       "<style scoped>\n",
       "    .dataframe tbody tr th:only-of-type {\n",
       "        vertical-align: middle;\n",
       "    }\n",
       "\n",
       "    .dataframe tbody tr th {\n",
       "        vertical-align: top;\n",
       "    }\n",
       "\n",
       "    .dataframe thead th {\n",
       "        text-align: right;\n",
       "    }\n",
       "</style>\n",
       "<table border=\"1\" class=\"dataframe\">\n",
       "  <thead>\n",
       "    <tr style=\"text-align: right;\">\n",
       "      <th></th>\n",
       "      <th>DATE</th>\n",
       "      <th>OPEN</th>\n",
       "      <th>HIGH</th>\n",
       "      <th>LOW</th>\n",
       "      <th>CLOSE</th>\n",
       "      <th>TICKVOL</th>\n",
       "      <th>VOL</th>\n",
       "      <th>SPREAD</th>\n",
       "    </tr>\n",
       "  </thead>\n",
       "  <tbody>\n",
       "    <tr>\n",
       "      <th>0</th>\n",
       "      <td>2021.08.02</td>\n",
       "      <td>1.18641</td>\n",
       "      <td>1.18969</td>\n",
       "      <td>1.18590</td>\n",
       "      <td>1.18688</td>\n",
       "      <td>47011</td>\n",
       "      <td>0</td>\n",
       "      <td>0</td>\n",
       "    </tr>\n",
       "    <tr>\n",
       "      <th>1</th>\n",
       "      <td>2021.08.03</td>\n",
       "      <td>1.18670</td>\n",
       "      <td>1.18933</td>\n",
       "      <td>1.18537</td>\n",
       "      <td>1.18637</td>\n",
       "      <td>49688</td>\n",
       "      <td>0</td>\n",
       "      <td>0</td>\n",
       "    </tr>\n",
       "    <tr>\n",
       "      <th>2</th>\n",
       "      <td>2021.08.04</td>\n",
       "      <td>1.18631</td>\n",
       "      <td>1.18997</td>\n",
       "      <td>1.18328</td>\n",
       "      <td>1.18367</td>\n",
       "      <td>48391</td>\n",
       "      <td>0</td>\n",
       "      <td>0</td>\n",
       "    </tr>\n",
       "    <tr>\n",
       "      <th>3</th>\n",
       "      <td>2021.08.05</td>\n",
       "      <td>1.18360</td>\n",
       "      <td>1.18572</td>\n",
       "      <td>1.18282</td>\n",
       "      <td>1.18327</td>\n",
       "      <td>47001</td>\n",
       "      <td>0</td>\n",
       "      <td>0</td>\n",
       "    </tr>\n",
       "    <tr>\n",
       "      <th>4</th>\n",
       "      <td>2021.08.06</td>\n",
       "      <td>1.18324</td>\n",
       "      <td>1.18357</td>\n",
       "      <td>1.17544</td>\n",
       "      <td>1.17611</td>\n",
       "      <td>47467</td>\n",
       "      <td>0</td>\n",
       "      <td>0</td>\n",
       "    </tr>\n",
       "    <tr>\n",
       "      <th>...</th>\n",
       "      <td>...</td>\n",
       "      <td>...</td>\n",
       "      <td>...</td>\n",
       "      <td>...</td>\n",
       "      <td>...</td>\n",
       "      <td>...</td>\n",
       "      <td>...</td>\n",
       "      <td>...</td>\n",
       "    </tr>\n",
       "    <tr>\n",
       "      <th>861</th>\n",
       "      <td>2024.11.20</td>\n",
       "      <td>1.05898</td>\n",
       "      <td>1.06097</td>\n",
       "      <td>1.05068</td>\n",
       "      <td>1.05431</td>\n",
       "      <td>38714</td>\n",
       "      <td>0</td>\n",
       "      <td>0</td>\n",
       "    </tr>\n",
       "    <tr>\n",
       "      <th>862</th>\n",
       "      <td>2024.11.21</td>\n",
       "      <td>1.05431</td>\n",
       "      <td>1.05548</td>\n",
       "      <td>1.04621</td>\n",
       "      <td>1.04734</td>\n",
       "      <td>42696</td>\n",
       "      <td>0</td>\n",
       "      <td>0</td>\n",
       "    </tr>\n",
       "    <tr>\n",
       "      <th>863</th>\n",
       "      <td>2024.11.22</td>\n",
       "      <td>1.04732</td>\n",
       "      <td>1.04979</td>\n",
       "      <td>1.03313</td>\n",
       "      <td>1.04178</td>\n",
       "      <td>48855</td>\n",
       "      <td>0</td>\n",
       "      <td>0</td>\n",
       "    </tr>\n",
       "    <tr>\n",
       "      <th>864</th>\n",
       "      <td>2024.11.25</td>\n",
       "      <td>1.04799</td>\n",
       "      <td>1.05300</td>\n",
       "      <td>1.04490</td>\n",
       "      <td>1.04928</td>\n",
       "      <td>49321</td>\n",
       "      <td>0</td>\n",
       "      <td>0</td>\n",
       "    </tr>\n",
       "    <tr>\n",
       "      <th>865</th>\n",
       "      <td>2024.11.26</td>\n",
       "      <td>1.04889</td>\n",
       "      <td>1.05189</td>\n",
       "      <td>1.04250</td>\n",
       "      <td>1.05127</td>\n",
       "      <td>24873</td>\n",
       "      <td>0</td>\n",
       "      <td>0</td>\n",
       "    </tr>\n",
       "  </tbody>\n",
       "</table>\n",
       "<p>866 rows × 8 columns</p>\n",
       "</div>"
      ],
      "text/plain": [
       "           DATE     OPEN     HIGH      LOW    CLOSE  TICKVOL  VOL  SPREAD\n",
       "0    2021.08.02  1.18641  1.18969  1.18590  1.18688    47011    0       0\n",
       "1    2021.08.03  1.18670  1.18933  1.18537  1.18637    49688    0       0\n",
       "2    2021.08.04  1.18631  1.18997  1.18328  1.18367    48391    0       0\n",
       "3    2021.08.05  1.18360  1.18572  1.18282  1.18327    47001    0       0\n",
       "4    2021.08.06  1.18324  1.18357  1.17544  1.17611    47467    0       0\n",
       "..          ...      ...      ...      ...      ...      ...  ...     ...\n",
       "861  2024.11.20  1.05898  1.06097  1.05068  1.05431    38714    0       0\n",
       "862  2024.11.21  1.05431  1.05548  1.04621  1.04734    42696    0       0\n",
       "863  2024.11.22  1.04732  1.04979  1.03313  1.04178    48855    0       0\n",
       "864  2024.11.25  1.04799  1.05300  1.04490  1.04928    49321    0       0\n",
       "865  2024.11.26  1.04889  1.05189  1.04250  1.05127    24873    0       0\n",
       "\n",
       "[866 rows x 8 columns]"
      ]
     },
     "execution_count": 1,
     "metadata": {},
     "output_type": "execute_result"
    }
   ],
   "source": [
    "import pandas as pd\n",
    "# df = pd.read_csv('EURUSD.csv')\n",
    "df = pd.read_csv('EURUSD.csv', delimiter='\\t')\n",
    "df.columns = [col.replace('<', '').replace('>', '') for col in df.columns]\n",
    "df"
   ]
  },
  {
   "cell_type": "code",
   "execution_count": 2,
   "metadata": {},
   "outputs": [
    {
     "data": {
      "text/plain": [
       "<Axes: >"
      ]
     },
     "execution_count": 2,
     "metadata": {},
     "output_type": "execute_result"
    },
    {
     "data": {
      "image/png": "[encoded data removed]",
      "text/plain": [
       "<Figure size 1000x900 with 1 Axes>"
      ]
     },
     "metadata": {},
     "output_type": "display_data"
    }
   ],
   "source": [
    "df['CLOSE'].plot(figsize=(10, 9))"
   ]
  },
  {
   "cell_type": "code",
   "execution_count": 3,
   "metadata": {},
   "outputs": [
    {
     "name": "stdout",
     "output_type": "stream",
     "text": [
      "692\n",
      "[[0.99632353]\n",
      " [0.99409139]\n",
      " [0.98227416]\n",
      " ...\n",
      " [0.53125   ]\n",
      " [0.54407388]\n",
      " [0.54219188]]\n"
     ]
    }
   ],
   "source": [
    "import numpy as np\n",
    "import matplotlib.pyplot as plt\n",
    "from sklearn.preprocessing import MinMaxScaler\n",
    "x_data = df['CLOSE'].values\n",
    "\n",
    "def get_train_test(split_percent, data):\n",
    "    n = len(data)\n",
    "    split = int(n * split_percent)\n",
    "    train_data = data[:split]\n",
    "    test_data = data[split:]\n",
    "    return train_data, test_data\n",
    "split_percent = 0.8     ## 80% of data for train data and 20% of data for test\n",
    "train_data, test_data = get_train_test(split_percent, x_data)\n",
    "print(len(train_data))\n",
    "\n",
    "def gen_seq(data,timesteps):\n",
    "  x, y = [], []\n",
    "  for i in range(len(data)-timesteps):\n",
    "    x.append(data[i:i+timesteps])\n",
    "    y.append(data[i+timesteps])\n",
    "  return np.array(x), np.array(y)\n",
    "time_steps = 7 \n",
    "trainX, trainY = gen_seq(train_data, time_steps)\n",
    "testX, testY = gen_seq(test_data, time_steps)\n",
    "\n",
    "scaler = MinMaxScaler(feature_range=(0,1))\n",
    "x_train_scar = scaler.fit_transform(trainX.reshape(-1,1))\n",
    "trainX = x_train_scar.reshape(trainX.shape[0],trainX.shape[1],1)\n",
    "print(x_train_scar)\n",
    "\n",
    "x_test_scar = scaler.transform(testX.reshape(-1,1))\n",
    "testX = x_test_scar.reshape(testX.shape[0],testX.shape[1],1)\n"
   ]
  },
  {
   "cell_type": "code",
   "execution_count": 4,
   "metadata": {},
   "outputs": [
    {
     "name": "stdout",
     "output_type": "stream",
     "text": [
      "(685, 7, 1) (685,)\n",
      "[[[0.99632353]\n",
      "  [0.99409139]\n",
      "  [0.98227416]\n",
      "  ...\n",
      "  [0.94918592]\n",
      "  [0.93828782]\n",
      "  [0.93132878]]\n",
      "\n",
      " [[0.99409139]\n",
      "  [0.98227416]\n",
      "  [0.98052346]\n",
      "  ...\n",
      "  [0.93828782]\n",
      "  [0.93132878]\n",
      "  [0.93942577]]\n",
      "\n",
      " [[0.98227416]\n",
      "  [0.98052346]\n",
      "  [0.94918592]\n",
      "  ...\n",
      "  [0.93132878]\n",
      "  [0.93942577]\n",
      "  [0.93539916]]\n",
      "\n",
      " ...\n",
      "\n",
      " [[0.56551996]\n",
      "  [0.56670168]\n",
      "  [0.56039916]\n",
      "  ...\n",
      "  [0.58127626]\n",
      "  [0.55462185]\n",
      "  [0.53125   ]]\n",
      "\n",
      " [[0.56670168]\n",
      "  [0.56039916]\n",
      "  [0.55676646]\n",
      "  ...\n",
      "  [0.55462185]\n",
      "  [0.53125   ]\n",
      "  [0.54407388]]\n",
      "\n",
      " [[0.56039916]\n",
      "  [0.55676646]\n",
      "  [0.58127626]\n",
      "  ...\n",
      "  [0.53125   ]\n",
      "  [0.54407388]\n",
      "  [0.54219188]]]\n"
     ]
    }
   ],
   "source": [
    "print(trainX.shape, trainY.shape)\n",
    "print(trainX)"
   ]
  },
  {
   "cell_type": "code",
   "execution_count": 5,
   "metadata": {},
   "outputs": [
    {
     "data": {
      "text/html": [
       "<pre style=\"white-space:pre;overflow-x:auto;line-height:normal;font-family:Menlo,'DejaVu Sans Mono',consolas,'Courier New',monospace\"><span style=\"font-weight: bold\">Model: \"sequential\"</span>\n",
       "</pre>\n"
      ],
      "text/plain": [
       "\u001b[1mModel: \"sequential\"\u001b[0m\n"
      ]
     },
     "metadata": {},
     "output_type": "display_data"
    },
    {
     "data": {
      "text/html": [
       "<pre style=\"white-space:pre;overflow-x:auto;line-height:normal;font-family:Menlo,'DejaVu Sans Mono',consolas,'Courier New',monospace\">┏━━━━━━━━━━━━━━━━━━━━━━━━━━━━━━━━━┳━━━━━━━━━━━━━━━━━━━━━━━━┳━━━━━━━━━━━━━━━┓\n",
       "┃<span style=\"font-weight: bold\"> Layer (type)                    </span>┃<span style=\"font-weight: bold\"> Output Shape           </span>┃<span style=\"font-weight: bold\">       Param # </span>┃\n",
       "┡━━━━━━━━━━━━━━━━━━━━━━━━━━━━━━━━━╇━━━━━━━━━━━━━━━━━━━━━━━━╇━━━━━━━━━━━━━━━┩\n",
       "│ simple_rnn (<span style=\"color: #0087ff; text-decoration-color: #0087ff\">SimpleRNN</span>)          │ (<span style=\"color: #00d7ff; text-decoration-color: #00d7ff\">None</span>, <span style=\"color: #00af00; text-decoration-color: #00af00\">10</span>)             │           <span style=\"color: #00af00; text-decoration-color: #00af00\">120</span> │\n",
       "├─────────────────────────────────┼────────────────────────┼───────────────┤\n",
       "│ dense (<span style=\"color: #0087ff; text-decoration-color: #0087ff\">Dense</span>)                   │ (<span style=\"color: #00d7ff; text-decoration-color: #00d7ff\">None</span>, <span style=\"color: #00af00; text-decoration-color: #00af00\">1</span>)              │            <span style=\"color: #00af00; text-decoration-color: #00af00\">11</span> │\n",
       "└─────────────────────────────────┴────────────────────────┴───────────────┘\n",
       "</pre>\n"
      ],
      "text/plain": [
       "┏━━━━━━━━━━━━━━━━━━━━━━━━━━━━━━━━━┳━━━━━━━━━━━━━━━━━━━━━━━━┳━━━━━━━━━━━━━━━┓\n",
       "┃\u001b[1m \u001b[0m\u001b[1mLayer (type)                   \u001b[0m\u001b[1m \u001b[0m┃\u001b[1m \u001b[0m\u001b[1mOutput Shape          \u001b[0m\u001b[1m \u001b[0m┃\u001b[1m \u001b[0m\u001b[1m      Param #\u001b[0m\u001b[1m \u001b[0m┃\n",
       "┡━━━━━━━━━━━━━━━━━━━━━━━━━━━━━━━━━╇━━━━━━━━━━━━━━━━━━━━━━━━╇━━━━━━━━━━━━━━━┩\n",
       "│ simple_rnn (\u001b[38;5;33mSimpleRNN\u001b[0m)          │ (\u001b[38;5;45mNone\u001b[0m, \u001b[38;5;34m10\u001b[0m)             │           \u001b[38;5;34m120\u001b[0m │\n",
       "├─────────────────────────────────┼────────────────────────┼───────────────┤\n",
       "│ dense (\u001b[38;5;33mDense\u001b[0m)                   │ (\u001b[38;5;45mNone\u001b[0m, \u001b[38;5;34m1\u001b[0m)              │            \u001b[38;5;34m11\u001b[0m │\n",
       "└─────────────────────────────────┴────────────────────────┴───────────────┘\n"
      ]
     },
     "metadata": {},
     "output_type": "display_data"
    },
    {
     "data": {
      "text/html": [
       "<pre style=\"white-space:pre;overflow-x:auto;line-height:normal;font-family:Menlo,'DejaVu Sans Mono',consolas,'Courier New',monospace\"><span style=\"font-weight: bold\"> Total params: </span><span style=\"color: #00af00; text-decoration-color: #00af00\">131</span> (524.00 B)\n",
       "</pre>\n"
      ],
      "text/plain": [
       "\u001b[1m Total params: \u001b[0m\u001b[38;5;34m131\u001b[0m (524.00 B)\n"
      ]
     },
     "metadata": {},
     "output_type": "display_data"
    },
    {
     "data": {
      "text/html": [
       "<pre style=\"white-space:pre;overflow-x:auto;line-height:normal;font-family:Menlo,'DejaVu Sans Mono',consolas,'Courier New',monospace\"><span style=\"font-weight: bold\"> Trainable params: </span><span style=\"color: #00af00; text-decoration-color: #00af00\">131</span> (524.00 B)\n",
       "</pre>\n"
      ],
      "text/plain": [
       "\u001b[1m Trainable params: \u001b[0m\u001b[38;5;34m131\u001b[0m (524.00 B)\n"
      ]
     },
     "metadata": {},
     "output_type": "display_data"
    },
    {
     "data": {
      "text/html": [
       "<pre style=\"white-space:pre;overflow-x:auto;line-height:normal;font-family:Menlo,'DejaVu Sans Mono',consolas,'Courier New',monospace\"><span style=\"font-weight: bold\"> Non-trainable params: </span><span style=\"color: #00af00; text-decoration-color: #00af00\">0</span> (0.00 B)\n",
       "</pre>\n"
      ],
      "text/plain": [
       "\u001b[1m Non-trainable params: \u001b[0m\u001b[38;5;34m0\u001b[0m (0.00 B)\n"
      ]
     },
     "metadata": {},
     "output_type": "display_data"
    },
    {
     "name": "stdout",
     "output_type": "stream",
     "text": [
      "Epoch 1/10\n",
      "\u001b[1m685/685\u001b[0m \u001b[32m━━━━━━━━━━━━━━━━━━━━\u001b[0m\u001b[37m\u001b[0m \u001b[1m10s\u001b[0m 1ms/step - loss: 0.1112\n",
      "Epoch 2/10\n",
      "\u001b[1m685/685\u001b[0m \u001b[32m━━━━━━━━━━━━━━━━━━━━\u001b[0m\u001b[37m\u001b[0m \u001b[1m1s\u001b[0m 1ms/step - loss: 0.0022\n",
      "Epoch 3/10\n",
      "\u001b[1m685/685\u001b[0m \u001b[32m━━━━━━━━━━━━━━━━━━━━\u001b[0m\u001b[37m\u001b[0m \u001b[1m1s\u001b[0m 1ms/step - loss: 7.9716e-04\n",
      "Epoch 4/10\n",
      "\u001b[1m685/685\u001b[0m \u001b[32m━━━━━━━━━━━━━━━━━━━━\u001b[0m\u001b[37m\u001b[0m \u001b[1m1s\u001b[0m 1ms/step - loss: 2.8638e-04\n",
      "Epoch 5/10\n",
      "\u001b[1m685/685\u001b[0m \u001b[32m━━━━━━━━━━━━━━━━━━━━\u001b[0m\u001b[37m\u001b[0m \u001b[1m1s\u001b[0m 1ms/step - loss: 1.8073e-04\n",
      "Epoch 6/10\n",
      "\u001b[1m685/685\u001b[0m \u001b[32m━━━━━━━━━━━━━━━━━━━━\u001b[0m\u001b[37m\u001b[0m \u001b[1m1s\u001b[0m 1ms/step - loss: 1.2511e-04\n",
      "Epoch 7/10\n",
      "\u001b[1m685/685\u001b[0m \u001b[32m━━━━━━━━━━━━━━━━━━━━\u001b[0m\u001b[37m\u001b[0m \u001b[1m1s\u001b[0m 1ms/step - loss: 9.7241e-05\n",
      "Epoch 8/10\n",
      "\u001b[1m685/685\u001b[0m \u001b[32m━━━━━━━━━━━━━━━━━━━━\u001b[0m\u001b[37m\u001b[0m \u001b[1m1s\u001b[0m 1ms/step - loss: 1.1949e-04\n",
      "Epoch 9/10\n",
      "\u001b[1m685/685\u001b[0m \u001b[32m━━━━━━━━━━━━━━━━━━━━\u001b[0m\u001b[37m\u001b[0m \u001b[1m1s\u001b[0m 1ms/step - loss: 1.1933e-04\n",
      "Epoch 10/10\n",
      "\u001b[1m685/685\u001b[0m \u001b[32m━━━━━━━━━━━━━━━━━━━━\u001b[0m\u001b[37m\u001b[0m \u001b[1m1s\u001b[0m 1ms/step - loss: 9.3486e-05\n"
     ]
    }
   ],
   "source": [
    "from tensorflow.keras.layers import Input, SimpleRNN, Dense\n",
    "from tensorflow.keras.models import Sequential\n",
    "model = Sequential([\n",
    "    Input(shape = (time_steps, 1)),        \n",
    "    SimpleRNN(10, activation='tanh'),       \n",
    "    Dense(1, activation = 'linear')        \n",
    "    ])\n",
    "\n",
    "model.summary()\n",
    "model.compile(loss='mean_squared_error', optimizer='adam')\n",
    "hist = model.fit(trainX, trainY, epochs=10, batch_size=1)"
   ]
  }
 ],
 "metadata": {
  "kernelspec": {
   "display_name": "Python 3",
   "language": "python",
   "name": "python3"
  },
  "language_info": {
   "codemirror_mode": {
    "name": "ipython",
    "version": 3
   },
   "file_extension": ".py",
   "mimetype": "text/x-python",
   "name": "python",
   "nbconvert_exporter": "python",
   "pygments_lexer": "ipython3",
   "version": "3.12.3"
  }
 },
 "nbformat": 4,
 "nbformat_minor": 2
}
